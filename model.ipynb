{
 "cells": [
  {
   "cell_type": "code",
   "execution_count": 5,
   "metadata": {},
   "outputs": [],
   "source": [
    "import pandas as pd\n",
    "import numpy as np\n",
    "import pathlib as pl\n",
    "import os\n",
    "import requests"
   ]
  },
  {
   "cell_type": "markdown",
   "metadata": {},
   "source": [
    "# Get ASEC data from CPS API"
   ]
  },
  {
   "cell_type": "markdown",
   "metadata": {},
   "source": [
    "## Variables to Retrieve"
   ]
  },
  {
   "cell_type": "code",
   "execution_count": 13,
   "metadata": {},
   "outputs": [],
   "source": [
    "ASEC_VARIABLES = [\n",
    "    'A_AGE',\n",
    "    'A_SEX',\n",
    "    'A_HGA',\n",
    "    'PRDTRACE',\n",
    "    'PEHSPNON',\n",
    "    'PRDISFLG',\n",
    "    'PRCITSHP',\n",
    "    'MARSUPWT',\n",
    "    'A_LFSR',\n",
    "    'HRCHECK',\n",
    "    'A_CLSWKR',\n",
    "    'CLWK',\n",
    "    'PEIO1COW',\n",
    "    'WEMOCG',\n",
    "    'A_DTOCC',\n",
    "    'WEMIND',\n",
    "    'A_MJIND',\n",
    "    'LJCW',\n",
    "    'PEARNVAL',\n",
    "    'HTOTVAL',\n",
    "    'A_MARITL',\n",
    "    # 'HCOV',  # health insurance coverage last year\n",
    "    'FPERSONS',  # number of persons in family\n",
    "    'FRELU18',  # number of persons in family under 18\n",
    "]"
   ]
  },
  {
   "cell_type": "markdown",
   "metadata": {},
   "source": [
    "## Get single year of ASEC data"
   ]
  },
  {
   "cell_type": "code",
   "execution_count": 24,
   "metadata": {},
   "outputs": [
    {
     "data": {
      "text/html": [
       "<div>\n",
       "<style scoped>\n",
       "    .dataframe tbody tr th:only-of-type {\n",
       "        vertical-align: middle;\n",
       "    }\n",
       "\n",
       "    .dataframe tbody tr th {\n",
       "        vertical-align: top;\n",
       "    }\n",
       "\n",
       "    .dataframe thead th {\n",
       "        text-align: right;\n",
       "    }\n",
       "</style>\n",
       "<table border=\"1\" class=\"dataframe\">\n",
       "  <thead>\n",
       "    <tr style=\"text-align: right;\">\n",
       "      <th></th>\n",
       "      <th>a_age</th>\n",
       "      <th>a_sex</th>\n",
       "      <th>a_hga</th>\n",
       "      <th>prdtrace</th>\n",
       "      <th>pehspnon</th>\n",
       "      <th>prdisflg</th>\n",
       "      <th>prcitshp</th>\n",
       "      <th>marsupwt</th>\n",
       "      <th>a_lfsr</th>\n",
       "      <th>hrcheck</th>\n",
       "      <th>...</th>\n",
       "      <th>a_dtocc</th>\n",
       "      <th>wemind</th>\n",
       "      <th>a_mjind</th>\n",
       "      <th>ljcw</th>\n",
       "      <th>pearnval</th>\n",
       "      <th>htotval</th>\n",
       "      <th>a_maritl</th>\n",
       "      <th>fpersons</th>\n",
       "      <th>frelu18</th>\n",
       "      <th>year</th>\n",
       "    </tr>\n",
       "  </thead>\n",
       "  <tbody>\n",
       "    <tr>\n",
       "      <th>0</th>\n",
       "      <td>68</td>\n",
       "      <td>2</td>\n",
       "      <td>39</td>\n",
       "      <td>1</td>\n",
       "      <td>2</td>\n",
       "      <td>2</td>\n",
       "      <td>1</td>\n",
       "      <td>1061.89</td>\n",
       "      <td>1</td>\n",
       "      <td>2</td>\n",
       "      <td>...</td>\n",
       "      <td>17</td>\n",
       "      <td>4</td>\n",
       "      <td>10</td>\n",
       "      <td>1</td>\n",
       "      <td>55000</td>\n",
       "      <td>262579</td>\n",
       "      <td>1</td>\n",
       "      <td>2</td>\n",
       "      <td>0</td>\n",
       "      <td>2024</td>\n",
       "    </tr>\n",
       "    <tr>\n",
       "      <th>1</th>\n",
       "      <td>68</td>\n",
       "      <td>1</td>\n",
       "      <td>43</td>\n",
       "      <td>1</td>\n",
       "      <td>2</td>\n",
       "      <td>2</td>\n",
       "      <td>1</td>\n",
       "      <td>1061.89</td>\n",
       "      <td>1</td>\n",
       "      <td>2</td>\n",
       "      <td>...</td>\n",
       "      <td>16</td>\n",
       "      <td>5</td>\n",
       "      <td>5</td>\n",
       "      <td>1</td>\n",
       "      <td>24000</td>\n",
       "      <td>262579</td>\n",
       "      <td>1</td>\n",
       "      <td>2</td>\n",
       "      <td>0</td>\n",
       "      <td>2024</td>\n",
       "    </tr>\n",
       "    <tr>\n",
       "      <th>2</th>\n",
       "      <td>58</td>\n",
       "      <td>2</td>\n",
       "      <td>44</td>\n",
       "      <td>1</td>\n",
       "      <td>2</td>\n",
       "      <td>1</td>\n",
       "      <td>1</td>\n",
       "      <td>4788.10</td>\n",
       "      <td>1</td>\n",
       "      <td>2</td>\n",
       "      <td>...</td>\n",
       "      <td>8</td>\n",
       "      <td>10</td>\n",
       "      <td>10</td>\n",
       "      <td>4</td>\n",
       "      <td>95000</td>\n",
       "      <td>96802</td>\n",
       "      <td>5</td>\n",
       "      <td>1</td>\n",
       "      <td>0</td>\n",
       "      <td>2024</td>\n",
       "    </tr>\n",
       "    <tr>\n",
       "      <th>3</th>\n",
       "      <td>71</td>\n",
       "      <td>2</td>\n",
       "      <td>43</td>\n",
       "      <td>1</td>\n",
       "      <td>2</td>\n",
       "      <td>2</td>\n",
       "      <td>1</td>\n",
       "      <td>5180.75</td>\n",
       "      <td>7</td>\n",
       "      <td>0</td>\n",
       "      <td>...</td>\n",
       "      <td>0</td>\n",
       "      <td>15</td>\n",
       "      <td>0</td>\n",
       "      <td>0</td>\n",
       "      <td>0</td>\n",
       "      <td>104000</td>\n",
       "      <td>1</td>\n",
       "      <td>2</td>\n",
       "      <td>0</td>\n",
       "      <td>2024</td>\n",
       "    </tr>\n",
       "    <tr>\n",
       "      <th>4</th>\n",
       "      <td>70</td>\n",
       "      <td>1</td>\n",
       "      <td>46</td>\n",
       "      <td>1</td>\n",
       "      <td>2</td>\n",
       "      <td>2</td>\n",
       "      <td>1</td>\n",
       "      <td>5180.75</td>\n",
       "      <td>7</td>\n",
       "      <td>2</td>\n",
       "      <td>...</td>\n",
       "      <td>0</td>\n",
       "      <td>10</td>\n",
       "      <td>0</td>\n",
       "      <td>1</td>\n",
       "      <td>55000</td>\n",
       "      <td>104000</td>\n",
       "      <td>1</td>\n",
       "      <td>2</td>\n",
       "      <td>0</td>\n",
       "      <td>2024</td>\n",
       "    </tr>\n",
       "  </tbody>\n",
       "</table>\n",
       "<p>5 rows × 24 columns</p>\n",
       "</div>"
      ],
      "text/plain": [
       "   a_age  a_sex  a_hga  prdtrace  pehspnon  prdisflg  prcitshp  marsupwt  \\\n",
       "0     68      2     39         1         2         2         1   1061.89   \n",
       "1     68      1     43         1         2         2         1   1061.89   \n",
       "2     58      2     44         1         2         1         1   4788.10   \n",
       "3     71      2     43         1         2         2         1   5180.75   \n",
       "4     70      1     46         1         2         2         1   5180.75   \n",
       "\n",
       "   a_lfsr  hrcheck  ...  a_dtocc  wemind  a_mjind  ljcw  pearnval  htotval  \\\n",
       "0       1        2  ...       17       4       10     1     55000   262579   \n",
       "1       1        2  ...       16       5        5     1     24000   262579   \n",
       "2       1        2  ...        8      10       10     4     95000    96802   \n",
       "3       7        0  ...        0      15        0     0         0   104000   \n",
       "4       7        2  ...        0      10        0     1     55000   104000   \n",
       "\n",
       "   a_maritl  fpersons  frelu18  year  \n",
       "0         1         2        0  2024  \n",
       "1         1         2        0  2024  \n",
       "2         5         1        0  2024  \n",
       "3         1         2        0  2024  \n",
       "4         1         2        0  2024  \n",
       "\n",
       "[5 rows x 24 columns]"
      ]
     },
     "execution_count": 24,
     "metadata": {},
     "output_type": "execute_result"
    }
   ],
   "source": [
    "# this function will retrieve an entire year of ASEC data\n",
    "def get_asec_year_df(api_key, asec_variables, year):\n",
    "    base_url = f'https://api.census.gov/data/{year}/cps/asec/mar'\n",
    "    get_vars = ','.join(asec_variables)\n",
    "    url = f'{base_url}?get={get_vars}&key={api_key}'\n",
    "    response = requests.get(url)\n",
    "    \n",
    "    data = response.json()\n",
    "    df = pd.DataFrame(data[1:], columns=data[0])\n",
    "    \n",
    "    df = df.rename(columns={x: x.lower() for x in df.columns})\n",
    "    df.loc[:, 'year'] = year\n",
    "    \n",
    "    for var in df.columns:\n",
    "        if var == 'marsupwt':\n",
    "            df[var] = df[var].astype(np.float64)\n",
    "        else:\n",
    "            df[var] = df[var].astype(np.int64)\n",
    "            \n",
    "    return df\n",
    "\n",
    "# I've saved my API key in a local file\n",
    "with open('c:/users/calvi/coding/census_api_key.txt', 'r') as f:\n",
    "    api_key = f.readline().strip()\n",
    "\n",
    "asec_2024 = get_asec_year_df(api_key, ASEC_VARIABLES, 2024)\n",
    "asec_2024.head()"
   ]
  },
  {
   "cell_type": "code",
   "execution_count": 17,
   "metadata": {},
   "outputs": [
    {
     "name": "stdout",
     "output_type": "stream",
     "text": [
      "Processing year 2015\n",
      "Processing year 2016\n",
      "Processing year 2017\n",
      "Processing year 2018\n",
      "Processing year 2019\n",
      "Processing year 2020\n",
      "Processing year 2021\n",
      "Processing year 2022\n"
     ]
    }
   ],
   "source": [
    "asec_df = pd.DataFrame()\n",
    "base_year = 2024\n",
    "start_year = base_year - 9\n",
    "for year in range(start_year, base_year + 1):\n",
    "    print(f'Processing year {year}')\n",
    "    df_year = get_asec_year_df(api_key, ASEC_VARIABLES, year)\n",
    "    asec_df = pd.concat([\n",
    "        asec_df,\n",
    "        df_year\n",
    "    ])\n",
    "\n",
    "asec_df.head()"
   ]
  },
  {
   "cell_type": "markdown",
   "metadata": {},
   "source": [
    "## Save raw ASEC data to parquet"
   ]
  },
  {
   "cell_type": "code",
   "execution_count": 19,
   "metadata": {},
   "outputs": [],
   "source": [
    "parquets_dir = pl.Path('model.ipynb').resolve().parent/'parquets'\n",
    "if not os.path.exists(str(parquets_dir)):\n",
    "    os.makedirs(str(parquets_dir))\n",
    "parquet_file_path = parquets_dir/f'asec_{start_year}to{base_year}.parquet'\n",
    "\n",
    "asec_df.to_parquet(parquet_file_path)"
   ]
  },
  {
   "cell_type": "markdown",
   "metadata": {},
   "source": [
    "# Transform ASEC data to prepare for modeling"
   ]
  },
  {
   "cell_type": "code",
   "execution_count": 50,
   "metadata": {},
   "outputs": [],
   "source": [
    "parquets_dir = pl.Path('model.ipynb').resolve().parent/'parquets'\n",
    "parquet_file_path = parquets_dir/f'asec_{start_year}to{base_year}.parquet'\n",
    "asec = pd.read_parquet(parquet_file_path)"
   ]
  },
  {
   "cell_type": "markdown",
   "metadata": {},
   "source": [
    "## Remove rows"
   ]
  },
  {
   "cell_type": "markdown",
   "metadata": {},
   "source": [
    "Starting with 1,695,000 rows"
   ]
  },
  {
   "cell_type": "code",
   "execution_count": 51,
   "metadata": {},
   "outputs": [
    {
     "name": "stdout",
     "output_type": "stream",
     "text": [
      "1695242\n"
     ]
    }
   ],
   "source": [
    "print(len(asec))"
   ]
  },
  {
   "cell_type": "code",
   "execution_count": 52,
   "metadata": {},
   "outputs": [
    {
     "data": {
      "text/plain": [
       "847026"
      ]
     },
     "execution_count": 52,
     "metadata": {},
     "output_type": "execute_result"
    }
   ],
   "source": [
    "# ! filter with WKSWORK to exclude people who barely worked?\n",
    "\n",
    "# only include people who worked in paying jobs last year\n",
    "asec = asec[asec.ljcw.isin([1,2,3,4,5,6])].reset_index(drop=True)\n",
    "\n",
    "len(asec)"
   ]
  },
  {
   "cell_type": "markdown",
   "metadata": {},
   "source": [
    "## Create modeling variables"
   ]
  },
  {
   "cell_type": "markdown",
   "metadata": {},
   "source": [
    "### Education"
   ]
  },
  {
   "cell_type": "code",
   "execution_count": 53,
   "metadata": {},
   "outputs": [
    {
     "data": {
      "text/plain": [
       "edu\n",
       "HS      220119\n",
       "BA      194849\n",
       "SCND    145246\n",
       "AD       90375\n",
       "MA       85058\n",
       "LTHS     79707\n",
       "DOC      31672\n",
       "Name: count, dtype: int64"
      ]
     },
     "execution_count": 53,
     "metadata": {},
     "output_type": "execute_result"
    }
   ],
   "source": [
    "def get_edu_var(df):\n",
    "    df = df.copy()\n",
    "    bins = [30, 39, 40, 41, 43, 44, 45, np.inf]\n",
    "    names = ['LTHS', 'HS', 'SCND', 'AD', 'BA', 'MA', 'DOC']\n",
    "    df['edu'] = pd.cut(df['a_hga'], bins, labels=names, right=False)\n",
    "    \n",
    "    return df\n",
    "\n",
    "asec = get_edu_var(asec)\n",
    "asec.edu.value_counts()"
   ]
  },
  {
   "cell_type": "markdown",
   "metadata": {},
   "source": [
    "### Race"
   ]
  },
  {
   "cell_type": "code",
   "execution_count": 54,
   "metadata": {},
   "outputs": [
    {
     "data": {
      "text/plain": [
       "race\n",
       "white    661835\n",
       "black     94406\n",
       "asian     56524\n",
       "other     34261\n",
       "Name: count, dtype: int64"
      ]
     },
     "execution_count": 54,
     "metadata": {},
     "output_type": "execute_result"
    }
   ],
   "source": [
    "def get_race_var(df):\n",
    "    df = df.copy()\n",
    "    df['race'] = 'other'\n",
    "    df.loc[df.prdtrace == 1, 'race'] = 'white'\n",
    "    df.loc[df.prdtrace == 2, 'race'] = 'black'\n",
    "    df.loc[df.prdtrace == 4, 'race'] = 'asian'\n",
    "    \n",
    "    return df\n",
    "\n",
    "asec = get_race_var(asec)\n",
    "asec.race.value_counts()"
   ]
  },
  {
   "cell_type": "markdown",
   "metadata": {},
   "source": [
    "### Hispanic"
   ]
  },
  {
   "cell_type": "code",
   "execution_count": 55,
   "metadata": {},
   "outputs": [
    {
     "data": {
      "text/plain": [
       "hisp\n",
       "not_hispanic    685960\n",
       "hispanic        161066\n",
       "Name: count, dtype: int64"
      ]
     },
     "execution_count": 55,
     "metadata": {},
     "output_type": "execute_result"
    }
   ],
   "source": [
    "def get_hispanic_var(df):\n",
    "    df = df.copy()\n",
    "    df['hisp'] = 'not_hispanic'\n",
    "    df.loc[df.pehspnon==1, 'hisp'] = 'hispanic'\n",
    "    \n",
    "    return df\n",
    "\n",
    "asec = get_hispanic_var(asec)\n",
    "asec.hisp.value_counts()"
   ]
  },
  {
   "cell_type": "markdown",
   "metadata": {},
   "source": [
    "### Sex"
   ]
  },
  {
   "cell_type": "code",
   "execution_count": 56,
   "metadata": {},
   "outputs": [
    {
     "data": {
      "text/plain": [
       "sex\n",
       "male      441229\n",
       "female    405797\n",
       "Name: count, dtype: int64"
      ]
     },
     "execution_count": 56,
     "metadata": {},
     "output_type": "execute_result"
    }
   ],
   "source": [
    "def get_sex_var(df):\n",
    "    df = df.copy()\n",
    "    df['sex'] = 'female'\n",
    "    df.loc[df.a_sex==1, 'sex'] = 'male'\n",
    "    \n",
    "    return df\n",
    "\n",
    "asec = get_sex_var(asec)\n",
    "asec.sex.value_counts()"
   ]
  },
  {
   "cell_type": "markdown",
   "metadata": {},
   "source": [
    "### Citizenship"
   ]
  },
  {
   "cell_type": "code",
   "execution_count": 57,
   "metadata": {},
   "outputs": [
    {
     "data": {
      "text/plain": [
       "citshp\n",
       "native         700363\n",
       "noncitizen      76079\n",
       "naturalized     70584\n",
       "Name: count, dtype: int64"
      ]
     },
     "execution_count": 57,
     "metadata": {},
     "output_type": "execute_result"
    }
   ],
   "source": [
    "def get_citizenship_var(df):\n",
    "    df = df.copy()\n",
    "    bins = [1, 4, 5, np.inf]\n",
    "    names = ['native', 'naturalized', 'noncitizen']\n",
    "    df.loc[:, 'citshp'] = pd.cut(df['prcitshp'],\n",
    "                                 bins=bins, labels=names, right=False, include_lowest=True)\n",
    "    \n",
    "    return df\n",
    "\n",
    "asec = get_citizenship_var(asec)\n",
    "asec.citshp.value_counts()"
   ]
  },
  {
   "cell_type": "markdown",
   "metadata": {},
   "source": [
    "### Class of worker"
   ]
  },
  {
   "cell_type": "code",
   "execution_count": 58,
   "metadata": {},
   "outputs": [
    {
     "data": {
      "text/plain": [
       "cow\n",
       "ws         639444\n",
       "gov        128180\n",
       "seuninc     50159\n",
       "seinc       29243\n",
       "Name: count, dtype: int64"
      ]
     },
     "execution_count": 58,
     "metadata": {},
     "output_type": "execute_result"
    }
   ],
   "source": [
    "def get_cow_var(df):\n",
    "    df = df.copy()\n",
    "    bins = [1, 2, 5, 6, np.inf]\n",
    "    names = ['ws', 'gov', 'seinc', 'seuninc']\n",
    "    df.loc[:, 'cow'] = pd.cut(df['ljcw'],\n",
    "                                 bins=bins, labels=names, \n",
    "                                 right=False, include_lowest=True)\n",
    "    \n",
    "    return df\n",
    "\n",
    "asec = get_cow_var(asec)\n",
    "asec.cow.value_counts()"
   ]
  },
  {
   "cell_type": "markdown",
   "metadata": {},
   "source": [
    "### Full-time/part-time"
   ]
  },
  {
   "cell_type": "code",
   "execution_count": 59,
   "metadata": {},
   "outputs": [
    {
     "data": {
      "text/plain": [
       "ftpt\n",
       "ft    682731\n",
       "pt    164295\n",
       "Name: count, dtype: int64"
      ]
     },
     "execution_count": 59,
     "metadata": {},
     "output_type": "execute_result"
    }
   ],
   "source": [
    "def get_ftpt_var(df):\n",
    "    df = df.copy()\n",
    "    df['ftpt'] = 'ft'\n",
    "    df.loc[df.hrcheck == 1, 'ftpt'] = 'pt'\n",
    "    \n",
    "    return df\n",
    "\n",
    "asec = get_ftpt_var(asec)\n",
    "asec.ftpt.value_counts()"
   ]
  },
  {
   "cell_type": "markdown",
   "metadata": {},
   "source": [
    "### Disability"
   ]
  },
  {
   "cell_type": "code",
   "execution_count": 61,
   "metadata": {},
   "outputs": [
    {
     "data": {
      "text/plain": [
       "disability\n",
       "no     809534\n",
       "yes     37492\n",
       "Name: count, dtype: int64"
      ]
     },
     "execution_count": 61,
     "metadata": {},
     "output_type": "execute_result"
    }
   ],
   "source": [
    "def get_disability_var(df):\n",
    "    df = df.copy()\n",
    "    df['disability'] = 'no'\n",
    "    df.loc[df.prdisflg == 1, 'disability'] = 'yes'\n",
    "    \n",
    "    return df\n",
    "\n",
    "asec = get_disability_var(asec)\n",
    "asec.disability.value_counts()"
   ]
  },
  {
   "cell_type": "code",
   "execution_count": 65,
   "metadata": {},
   "outputs": [
    {
     "data": {
      "text/plain": [
       "count    847026.000000\n",
       "mean         11.402650\n",
       "std           0.858329\n",
       "min           0.000000\n",
       "25%          10.933107\n",
       "50%          11.461843\n",
       "75%          11.931682\n",
       "max          15.009578\n",
       "Name: log_income, dtype: float64"
      ]
     },
     "execution_count": 65,
     "metadata": {},
     "output_type": "execute_result"
    }
   ],
   "source": [
    "# ! need to adjust for inflation\n",
    "def get_log_income_var(df):\n",
    "    df = df.copy()\n",
    "    # initially set to 0\n",
    "    df['log_income'] = 0.0\n",
    "    # only assign log value to positive values - we will treat negative and 0 income as all having 0 here\n",
    "    df.loc[df.htotval > 0, 'log_income'] = np.log(df[df.htotval > 0].htotval)\n",
    "    \n",
    "    return df\n",
    "\n",
    "asec = get_log_income_var(asec)\n",
    "asec.log_income.describe()"
   ]
  }
 ],
 "metadata": {
  "kernelspec": {
   "display_name": "sep",
   "language": "python",
   "name": "python3"
  },
  "language_info": {
   "codemirror_mode": {
    "name": "ipython",
    "version": 3
   },
   "file_extension": ".py",
   "mimetype": "text/x-python",
   "name": "python",
   "nbconvert_exporter": "python",
   "pygments_lexer": "ipython3",
   "version": "3.13.1"
  }
 },
 "nbformat": 4,
 "nbformat_minor": 2
}
